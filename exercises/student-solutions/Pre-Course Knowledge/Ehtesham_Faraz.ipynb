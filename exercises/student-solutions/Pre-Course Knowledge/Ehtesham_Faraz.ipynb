{
  "nbformat": 4,
  "nbformat_minor": 0,
  "metadata": {
    "colab": {
      "provenance": [],
      "toc_visible": true
    },
    "kernelspec": {
      "name": "python3",
      "display_name": "Python 3"
    },
    "language_info": {
      "name": "python"
    }
  },
  "cells": [
    {
      "cell_type": "markdown",
      "source": [
        "# Code preliminaries (run first!)"
      ],
      "metadata": {
        "id": "icYp1GuUQc0A"
      }
    },
    {
      "cell_type": "code",
      "source": [
        "# Imports\n",
        "import numpy as np"
      ],
      "metadata": {
        "id": "qkWepNKs9OZ4"
      },
      "execution_count": null,
      "outputs": []
    },
    {
      "cell_type": "markdown",
      "source": [
        "# Check your knowledge"
      ],
      "metadata": {
        "id": "l7TtTOXT6kc1"
      }
    },
    {
      "cell_type": "markdown",
      "source": [
        "## Task: matrix multiplication\n",
        "\n",
        "Write a function that takes as input three matrices $A,B,C$ and computed their matrix product.\n",
        "Use only elementary operations, no matmul or @ of numpy.\n",
        "Check dimensions on the input!\n",
        "\n",
        "Write a unit test.\n",
        "Compare outputs using your function and, say, @ of numpy."
      ],
      "metadata": {
        "id": "HwhWFTJFA5Fm"
      }
    },
    {
      "cell_type": "code",
      "source": [
        "def two_mat_product(mat1, mat2):\n",
        "  mat1_rows = len(mat1)\n",
        "  mat1_cols = len(mat1[0])\n",
        "  mat2_rows = len(mat2)\n",
        "  mat2_cols = len(mat2[0])\n",
        "\n",
        "  if mat1_cols != mat2_rows:\n",
        "    return None\n",
        "\n",
        "  mat3 = [[0 for _ in range(mat2_cols)] for _ in range(mat1_rows)]\n",
        "\n",
        "  for i in range(mat1_rows):\n",
        "    for j in range(mat2_cols):\n",
        "      for k in range(mat1_cols):\n",
        "        mat3[i][j] += mat1[i][k] * mat2[k][j]\n",
        "\n",
        "  return mat3\n",
        "\n",
        "def my_three_mat_product(mat1, mat2, mat3):\n",
        "  # Computes matrix product mat1 * mat2 * mat3\n",
        "\n",
        "  ###\n",
        "  # WRITE CODE HERE\n",
        "\n",
        "  temp =  two_mat_product(mat1, mat2)\n",
        "\n",
        "  print(temp)\n",
        "\n",
        "  if temp:\n",
        "    return two_mat_product(temp, mat3)\n",
        "  else:\n",
        "    return None\n",
        "\n",
        "  ###\n",
        "\n",
        "# Example matrices\n",
        "# WARNING! Will raise an error. Figure out why. Fix it\n",
        "A = np.random.rand(3, 4)\n",
        "B = np.random.rand(4, 3)\n",
        "C = np.random.rand(3, 4)\n",
        "\n",
        "print(my_three_mat_product(A, B, C))"
      ],
      "metadata": {
        "colab": {
          "base_uri": "https://localhost:8080/"
        },
        "id": "elSs0MXu8xz8",
        "outputId": "94ff528e-bf49-421a-dcb6-3f10145d58dd"
      },
      "execution_count": null,
      "outputs": [
        {
          "output_type": "stream",
          "name": "stdout",
          "text": [
            "[[0.8298176037002869, 0.8224672858909163, 1.1390473456503476], [1.3905199565018542, 1.076826692837721, 1.1999220035141334], [1.208539177736117, 1.084936975554918, 0.9882108827278648]]\n",
            "[[1.6265911156587372, 1.0523747775187764, 1.136753519489099, 0.8604297987256486], [2.1000809973204837, 1.3167516118885176, 1.7118565821021763, 1.1122492355995204], [1.8112863911583945, 1.1760220769580405, 1.537384906806289, 1.0853244123956332]]\n"
          ]
        }
      ]
    },
    {
      "cell_type": "code",
      "source": [
        "def unit_test_my_three_mat_product():\n",
        "  if my_three_mat_product(A, B, C) == np.matmul(np.matmul(A, B), C).tolist():\n",
        "    print(\"Test passed\")\n",
        "  # Or another way\n",
        "  if np.array_equal(my_three_mat_product(A, B, C), np.array(RES)):\n",
        "    print(\"Test passed\")\n",
        "  else:\n",
        "    print(\"Test failed\")\n",
        "\n",
        "# DEFINE THREE MATRICES OF PROPER DIMENSIONS AND RUN THE TEST\n",
        "# PUT MATRICES HERE AND UNCOMMENT\n",
        "A = [[1,2],[3,4]]\n",
        "B = [[5,6],[7,8]]\n",
        "C = [[9,10],[11,12]]\n",
        "\n",
        "RES = [[413, 454],[937, 1030]] # Manually computed\n",
        "\n",
        "unit_test_my_three_mat_product()"
      ],
      "metadata": {
        "id": "4E8Sf7-6-VTC",
        "outputId": "5b05a7f7-e265-4816-e4f7-af0f2cd45629",
        "colab": {
          "base_uri": "https://localhost:8080/"
        }
      },
      "execution_count": null,
      "outputs": [
        {
          "output_type": "stream",
          "name": "stdout",
          "text": [
            "[[19, 22], [43, 50]]\n",
            "Test passed\n",
            "[[19, 22], [43, 50]]\n",
            "Test passed\n"
          ]
        }
      ]
    },
    {
      "cell_type": "markdown",
      "source": [
        "## Task: quadratic forms\n",
        "\n",
        "Write a program that takes a vector $x$ and a matrix $A$ and computes the quadratic form $x^\\top A x$.\n",
        "Check dimensions.\n",
        "Write a unit test."
      ],
      "metadata": {
        "id": "RFiT43wAAwVK"
      }
    },
    {
      "cell_type": "code",
      "source": [
        "def transpose(vec):\n",
        "  return [vec[i] for i in range(len(vec))]\n",
        "\n",
        "def my_quad_form(x, A):\n",
        "  if len(x) != len(A):\n",
        "    return None\n",
        "\n",
        "  quad_form = 0\n",
        "\n",
        "  for i in range(len(x)):\n",
        "    for j in range(len(x)):\n",
        "      quad_form += x[i] * A[i][j]\n",
        "\n",
        "  return quad_form\n",
        "\n",
        "# Example matrices\n",
        "A = np.random.rand(3, 3)\n",
        "x = np.random.rand(3)\n",
        "\n",
        "print(my_quad_form(x, A))"
      ],
      "metadata": {
        "id": "UCOx9bjVBYyD",
        "colab": {
          "base_uri": "https://localhost:8080/"
        },
        "outputId": "62b8a4e1-c803-45fb-cedb-9483b1a73ba9"
      },
      "execution_count": null,
      "outputs": [
        {
          "output_type": "stream",
          "name": "stdout",
          "text": [
            "3.1418495892748117\n"
          ]
        }
      ]
    },
    {
      "cell_type": "markdown",
      "source": [
        "## Task: output of quadratic-linear layer\n",
        "\n",
        "Write a Python program that computes the output of a quadratic-linear layer. The function should take a vector $ x $ of dimension $ n \\times 1 $ and output a value computed as follows:\n",
        "\n",
        "$$\n",
        "\\text{output} = w_{11} \\cdot x_1^2 + w_{22} \\cdot x_2^2 + \\dots + w_{12} \\cdot x_1 \\cdot x_2 + \\dots + w_{1} \\cdot x_1 + \\dots\n",
        "$$\n",
        "\n",
        "Where $ w $ is the weight tensor.\n",
        "\n",
        "1. Define the weight tensor properly.\n",
        "2. Ensure the dimensions of $ w $ match the required operations.\n",
        "3. The input vector $ x $ should be defined with arbitrary values for testing.\n",
        "\n",
        "---\n",
        "\n",
        "**Instructions**:\n",
        "- First, define a function `quadratic_linear_layer(x)` where $ x $ is an $ n \\times 1 $ numpy array.\n",
        "- Inside the function, define the weight tensor $ w $ such that the quadratic and linear terms can be computed correctly.\n",
        "- Return the computed output.\n",
        "\n"
      ],
      "metadata": {
        "id": "rebU1CH8QRzv"
      }
    },
    {
      "cell_type": "code",
      "source": [
        "import numpy as np\n",
        "\n",
        "def quadratic_linear_layer(x):\n",
        "    n = x.shape[0]\n",
        "\n",
        "    # Define the weight tensor for quadratic terms (w for x_i^2)\n",
        "    w_quadratic = np.random.rand(n)  # Weight vector for quadratic terms of size n\n",
        "\n",
        "    # Define the weight matrix for interaction terms (w for x_i * x_j, i < j)\n",
        "    w_interaction = np.random.rand(n, n)  # Weight matrix for interactions terms, size n x n\n",
        "\n",
        "    # Define the weight vector for linear terms (w for x_i)\n",
        "    w_linear = np.random.rand(n)  # Weight vector for linear terms, size n\n",
        "\n",
        "    # Initialize output\n",
        "    output = 0\n",
        "\n",
        "    # Compute the quadratic terms\n",
        "    for i in range(n):\n",
        "        output += w_quadratic[i] * (x[i] ** 2)\n",
        "\n",
        "    # Compute and add the interaction terms (only for i < j to avoid double-counting)\n",
        "    for i in range(n):\n",
        "        for j in range(i + 1, n):\n",
        "            output += w_interaction[i, j] * x[i] * x[j]\n",
        "\n",
        "    # Compute and add the linear terms\n",
        "    for i in range(n):\n",
        "        output += w_linear[i] * x[i]\n",
        "\n",
        "    return output\n",
        "\n",
        "# Example usage:\n",
        "x = np.array([1.0, 2.0, 3.0])  # Example input vector\n",
        "result = quadratic_linear_layer(x)\n",
        "print(f\"Output of the quadratic-linear layer: {result}\")"
      ],
      "metadata": {
        "colab": {
          "base_uri": "https://localhost:8080/"
        },
        "id": "xH4sLQkGQXW9",
        "outputId": "2f994be5-b679-4888-cfb2-f85357c87068"
      },
      "execution_count": null,
      "outputs": [
        {
          "output_type": "stream",
          "name": "stdout",
          "text": [
            "Output of the quadratic-linear layer: 0\n"
          ]
        }
      ]
    },
    {
      "cell_type": "markdown",
      "source": [
        "## Task: compute gradient of the quadratic-linear layer\n",
        "\n",
        "Recall the quadratic-linear layer with single output.\n",
        "It takes a vector $ x $ of dimension $ n \\times 1 $ and outputs a value computed as follows:\n",
        "\n",
        "$$\n",
        "\\text{output} = w_{11} \\cdot x_1^2 + w_{22} \\cdot x_2^2 + \\dots + w_{12} \\cdot x_1 \\cdot x_2 + \\dots + w_{1} \\cdot x_1 + \\dots\n",
        "$$\n",
        "\n",
        "Where $ \\mathbf{w} $ is the weight tensor.\n",
        "\n",
        "The task is to write a Python program that computes the gradient of the layer with respect to weights.\n",
        "\n",
        "The general formula for the gradient reads:\n",
        "\n",
        "$$\n",
        "\\nabla_{\\omega} h(x) = \\begin{pmatrix}\n",
        "\\frac{\\partial}{\\partial \\omega_1} h(x) \\\\\n",
        "\\frac{\\partial}{\\partial \\omega_2} h(x) \\\\\n",
        "\\vdots\n",
        "\\end{pmatrix}\n",
        "$$\n",
        "\n",
        "where $h$ is the layer function that you computed above, $w$ is the weight tensor and $x$ is the input.\n",
        "\n",
        "You may use high-level functions for this task, say, of `numpy`."
      ],
      "metadata": {
        "id": "VZ8uKx_j1ZA2"
      }
    },
    {
      "cell_type": "code",
      "source": [
        "# Define the function for the gradient of a quadratic-linear layer\n",
        "def grad_quadratic_linear_layer(x):\n",
        "    n = x.shape[0]\n",
        "\n",
        "    # WRITE CODE HERE\n",
        "\n",
        "    grad = 0\n",
        "\n",
        "    return grad\n",
        "\n",
        "# Example usage:\n",
        "x = np.array([5.0, 4.0, 3.0])  # Example input vector\n",
        "grad = grad_quadratic_linear_layer(x)\n",
        "print(f\"Gradient of the quadratic-linear layer: {grad}\")"
      ],
      "metadata": {
        "colab": {
          "base_uri": "https://localhost:8080/"
        },
        "id": "DMw6w4XN3EBH",
        "outputId": "7a86bb4e-627a-4a54-bb2b-34e72aea85c2"
      },
      "execution_count": null,
      "outputs": [
        {
          "output_type": "stream",
          "name": "stdout",
          "text": [
            "Gradient of the quadratic-linear layer: 0\n"
          ]
        }
      ]
    },
    {
      "cell_type": "markdown",
      "source": [
        "## Task: expected value of a discrete random variable\n",
        "\n",
        "Write a Python program that computes the expected value of a scalar random variable that takes discrete values in the range of 0 to 10.\n",
        "The probability mass function (PMF) should be defined as a dictionary, where keys represent the values and values represent the corresponding probabilities.\n",
        "\n",
        "1. Define a dictionary representing the probability mass function (PMF) of the random variable. Ensure that the probabilities sum up to 1.\n",
        "2. Implement a function to compute the expected value based on the PMF.\n",
        "\n",
        "---\n",
        "\n",
        "**Instructions**:\n",
        "\n",
        "- First, define a dictionary called `pmf` where keys are the discrete values (0 to 10) and values are their corresponding probabilities.\n",
        "- Define a function called `expected_value(pmf)` that takes the PMF dictionary as input.\n",
        "- Inside the function, iterate through the PMF and compute the expected value using the formula:\n",
        "$$\n",
        "\\mathbb E[X] = \\sum_{x} x \\cdot \\mathbb P[X=x]\n",
        "$$\n",
        "- Return the computed expected value."
      ],
      "metadata": {
        "id": "E_3iujEOU5Ur"
      }
    },
    {
      "cell_type": "code",
      "source": [
        "# Define the probability mass function (PMF) as a dictionary\n",
        "###\n",
        "# WRITE CODE HERE\n",
        "###\n",
        "\n",
        "\n",
        "# Define the function to compute the expected value\n",
        "def expected_value(pmf):\n",
        "    ###\n",
        "    # WRITE CODE HERE\n",
        "    ###\n",
        "\n",
        "    return expected_val\n",
        "\n",
        "# Example usage:\n",
        "# Call the expected_value function with the defined PMF\n",
        "expected_val = expected_value(pmf)\n",
        "print(f\"Expected value of the random variable: {expected_val}\")"
      ],
      "metadata": {
        "id": "ZjxJJHqJVazZ"
      },
      "execution_count": null,
      "outputs": []
    },
    {
      "cell_type": "markdown",
      "source": [
        "## Task: expected value of a normally distributed random variable\n",
        "\n",
        "Write a Python program that computes the expected value of a normally distributed scalar random variable using numerical integration. The program should:\n",
        "\n",
        "1. Define a function to represent the probability density function (PDF) of the normal distribution.\n",
        "2. Implement a function to perform numerical integration to compute the expected value.\n",
        "3. Write a unit test to compare the result with the expected value calculated using a standard Python function (e.g., `scipy.stats.norm.expect`).\n",
        "\n",
        "---\n",
        "\n",
        "**Instructions**:\n",
        "\n",
        "- Define a function called `normal_pdf(x, mu, sigma)` that takes the value `x`, mean `mu`, and standard deviation `sigma` as input and returns the PDF value at `x`.\n",
        "- Define a function called `expected_value_numerical(mu, sigma, a, b, n)` that takes the mean `mu`, standard deviation `sigma`, integration limits `a` and `b`, and the number of integration steps `n` as input. This function should perform numerical integration using the rectangle rule to compute the expected value. Adjust the integration limits (`a` and `b`) and the number of integration steps `n` as needed for accuracy\n",
        "- Write a unit test function called `test_expected_value()` that compares the result of `expected_value_numerical` with the expected value calculated using `scipy.stats.norm.expect`.\n"
      ],
      "metadata": {
        "id": "N-NNTuNDXn0V"
      }
    },
    {
      "cell_type": "code",
      "source": [
        "from scipy import stats\n",
        "\n",
        "# Define the normal PDF\n",
        "def normal_pdf(x, mu, sigma):\n",
        "    ###\n",
        "    # WRITE CODE HERE, CORRECT THE RETURN\n",
        "    ###\n",
        "\n",
        "    return 0\n",
        "\n",
        "# Define the numerical integration function\n",
        "def expected_value_numerical(mu, sigma, a, b, n):\n",
        "    ###\n",
        "    # WRITE CODE HERE, CORRECT THE RETURN\n",
        "    ###\n",
        "\n",
        "    return 0\n",
        "\n",
        "# Define the unit test function\n",
        "def test_expected_value():\n",
        "    ###\n",
        "    # WRITE CODE HERE, CORRECT THE RETURN\n",
        "    ###\n",
        "\n",
        "    return 0\n",
        "\n",
        "# Example usage:\n",
        "mu = 0.3  # Mean\n",
        "sigma = 0.1  # Standard deviation\n",
        "a = -1  # Lower integration limit\n",
        "b = 1  # Upper integration limit\n",
        "n = 1000  # Number of integration steps\n",
        "\n",
        "expected_val_numerical = expected_value_numerical(mu, sigma, a, b, n)\n",
        "print(f\"Expected value (numerical): {expected_val_numerical}\")\n",
        "\n",
        "# Run the unit test\n",
        "test_expected_value()"
      ],
      "metadata": {
        "colab": {
          "base_uri": "https://localhost:8080/"
        },
        "id": "-1G-tNLtY9sO",
        "outputId": "f90abc53-3aba-4d1c-ff78-ad46ee935adb"
      },
      "execution_count": null,
      "outputs": [
        {
          "output_type": "stream",
          "name": "stdout",
          "text": [
            "Expected value (numerical): 0\n"
          ]
        },
        {
          "output_type": "execute_result",
          "data": {
            "text/plain": [
              "0"
            ]
          },
          "metadata": {},
          "execution_count": 5
        }
      ]
    },
    {
      "cell_type": "markdown",
      "source": [
        "## Task*: output of a 3-by-3 convolution layer\n",
        "\n",
        "Write a Python program that computes the output of a 3-by-3 convolution layer.  The function should take an input image (as a 2D numpy array) and a kernel (also a 2D numpy array, of shape 3x3) and outputs the convolved image (as a 2D numpy array). Handle boundaries by padding with zeros, such that the output image is the same shape as the input.\n",
        "\n",
        "1. Define the input image properly.\n",
        "2. Define the kernel (filter) with arbitrary values for testing.\n",
        "3. Ensure that dimensions of input, kernel, and output are correct.\n",
        "\n",
        "\n",
        "---\n",
        "**Instructions**:\n",
        "\n",
        "- First, define a function called `conv3x3(image, kernel)` where `image` is a 2D numpy array representing the input image, and `kernel` is a 3x3 numpy array representing the kernel.\n",
        "- Inside the function, define the output array for the convolved image. Make it the same shape as the input image.\n",
        "- Iterate over the rows and columns of the image.\n",
        "- At each point, pad with zeros as needed, perform the convolution operation and store the result in the output array."
      ],
      "metadata": {
        "id": "5A8i1qHXTJ0e"
      }
    },
    {
      "cell_type": "code",
      "source": [
        "# Define the function for the 3x3 convolution layer\n",
        "def conv3x3(image, kernel):\n",
        "    # Get the dimensions of the input image\n",
        "    ###\n",
        "    # WRITE CODE HERE\n",
        "\n",
        "    ###\n",
        "\n",
        "    # Create an output image of the same size, filled with zeros\n",
        "    ###\n",
        "    # WRITE CODE HERE\n",
        "\n",
        "    ###\n",
        "\n",
        "    # Iterate through the image, leaving a 1-pixel border\n",
        "    ###\n",
        "    # WRITE CODE HERE\n",
        "\n",
        "    ###\n",
        "\n",
        "        # Perform the convolution operation at this pixel\n",
        "        ###\n",
        "        # WRITE CODE HERE\n",
        "\n",
        "        ###\n",
        "\n",
        "    return output_image\n",
        "\n",
        "# Example usage:\n",
        "# Define an input image (5x5 for simplicity)\n",
        "###\n",
        "# WRITE CODE HERE\n",
        "\n",
        "###\n",
        "\n",
        "# Define a 3x3 kernel\n",
        "###\n",
        "# WRITE CODE HERE\n",
        "\n",
        "###\n",
        "\n",
        "# Call the convolution function\n",
        "output_image = conv3x3(image, kernel)\n",
        "print(f\"Output of the convolution layer:\\n{output_image}\")"
      ],
      "metadata": {
        "id": "1QU_pUUWTWFM"
      },
      "execution_count": null,
      "outputs": []
    }
  ]
}
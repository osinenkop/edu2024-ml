{
  "nbformat": 4,
  "nbformat_minor": 0,
  "metadata": {
    "colab": {
      "provenance": [],
      "toc_visible": true
    },
    "kernelspec": {
      "name": "python3",
      "display_name": "Python 3"
    },
    "language_info": {
      "name": "python"
    }
  },
  "cells": [
    {
      "cell_type": "markdown",
      "source": [
        "# Code preliminaries (run first!)"
      ],
      "metadata": {
        "id": "icYp1GuUQc0A"
      }
    },
    {
      "cell_type": "code",
      "source": [
        "# Imports\n",
        "import numpy as np"
      ],
      "metadata": {
        "id": "qkWepNKs9OZ4"
      },
      "execution_count": null,
      "outputs": []
    },
    {
      "cell_type": "markdown",
      "source": [
        "# Check your knowledge"
      ],
      "metadata": {
        "id": "l7TtTOXT6kc1"
      }
    },
    {
      "cell_type": "markdown",
      "source": [
        "## Task: matrix multiplication\n",
        "\n",
        "Write a function that takes as input three matrices $A,B,C$ and computed their matrix product.\n",
        "Use only elementary operations, no matmul or @ of numpy.\n",
        "Check dimensions on the input!\n",
        "\n",
        "Write a unit test.\n",
        "Compare outputs using your function and, say, @ of numpy."
      ],
      "metadata": {
        "id": "HwhWFTJFA5Fm"
      }
    },
    {
      "cell_type": "code",
      "source": [
        "import numpy as np\n",
        "\n",
        "def my_three_mat_product(mat1, mat2, mat3):\n",
        "  # Computes matrix product mat1 * mat2 * mat3\n",
        "  print(len(mat1[0]))\n",
        "  print(len(mat2))\n",
        "  if (len(mat1[0])!=len(mat2)):\n",
        "    return None\n",
        "  if (len(mat2[0])!=len(mat3)):\n",
        "    return None\n",
        "\n",
        "  def multiply(x, y):\n",
        "    result = [[0] * len(y[0]) for _ in range(len(x))]\n",
        "\n",
        "    for i in range(len(x)): # for rows A\n",
        "      for j in range(len(y[0])): # for columns B\n",
        "        for k in range(len(y)): # for rows B or column A; as they both will be the same\n",
        "          result[i][j] += x[i][k] * y[k][j]\n",
        "    return result\n",
        "\n",
        "  mat12 = multiply(mat1, mat2)\n",
        "  mat_product = multiply(mat12, mat3)\n",
        "\n",
        "  return mat_product\n",
        "\n",
        "# Example matrices\n",
        "# WARNING! Will raise an error. Figure out why. Fix it\n",
        "A = np.random.rand(3, 4)\n",
        "B = np.random.rand(4, 5)\n",
        "C = np.random.rand(5, 2)\n",
        "\n",
        "print(my_three_mat_product(A, B, C))"
      ],
      "metadata": {
        "colab": {
          "base_uri": "https://localhost:8080/"
        },
        "id": "elSs0MXu8xz8",
        "outputId": "9b559672-5be6-42aa-d35e-798df4687ee0"
      },
      "execution_count": null,
      "outputs": [
        {
          "output_type": "stream",
          "name": "stdout",
          "text": [
            "4\n",
            "4\n",
            "[[2.3635120975023507, 1.8766825151488453], [3.650732819148108, 3.071054440782173], [4.288883204008487, 3.716189755541871]]\n"
          ]
        }
      ]
    },
    {
      "cell_type": "code",
      "source": [
        "def unit_test_my_three_mat_product():\n",
        "  # Unit test for `my_three_mat_product`\n",
        "\n",
        "  # DEFINE THREE MATRICES OF PROPER DIMENSIONS AND RUN THE TEST\n",
        "\n",
        "  # PUT MATRICES HERE AND UNCOMMENT\n",
        "    A = [[1, 2, 3], [4, 5, 6]]  # 2x3 matrix\n",
        "    B = [[7, 8], [9, 10], [11, 12]]  # 3x2 matrix\n",
        "    C = [[13, 14], [15, 16]]  # 2x2 matrix\n",
        "\n",
        "    expected_result = [[1714, 1836], [4117, 4410]]\n",
        "    result = my_three_mat_product(A, B, C)\n",
        "    assert result == expected_result, f\"Test failed: Expected {expected_result}, got {result}\"\n",
        "\n",
        "    return \"Test Passed\"\n",
        "unit_test_my_three_mat_product()"
      ],
      "metadata": {
        "id": "4E8Sf7-6-VTC",
        "outputId": "2e40af93-e475-4ef6-db1f-53973b2129c7",
        "colab": {
          "base_uri": "https://localhost:8080/",
          "height": 35
        }
      },
      "execution_count": null,
      "outputs": [
        {
          "output_type": "execute_result",
          "data": {
            "text/plain": [
              "'Test Passed'"
            ],
            "application/vnd.google.colaboratory.intrinsic+json": {
              "type": "string"
            }
          },
          "metadata": {},
          "execution_count": 18
        }
      ]
    },
    {
      "cell_type": "markdown",
      "source": [
        "## Task: quadratic forms\n",
        "\n",
        "Write a program that takes a vector $x$ and a matrix $A$ and computes the quadratic form $x^\\top A x$.\n",
        "Check dimensions.\n",
        "Write a unit test."
      ],
      "metadata": {
        "id": "RFiT43wAAwVK"
      }
    },
    {
      "cell_type": "code",
      "source": [
        "def my_quad_form(x, A):\n",
        "  if (len(x) != len(A)):\n",
        "    return None\n",
        "\n",
        "  Ax = [sum(A[i][j] * x[j] for j in range(len(x))) for i in range(len(A))]\n",
        "\n",
        "  quad_form = sum(x[i] * Ax[i] for i in range(len(x)))\n",
        "\n",
        "  return quad_form\n",
        "\n",
        "# Example matrices\n",
        "A = np.random.rand(3, 3)\n",
        "x = np.random.rand(3)\n",
        "\n",
        "print(my_quad_form(x, A))"
      ],
      "metadata": {
        "id": "UCOx9bjVBYyD",
        "outputId": "0d68560e-7a3b-4230-cc74-4064070ea8aa",
        "colab": {
          "base_uri": "https://localhost:8080/"
        }
      },
      "execution_count": null,
      "outputs": [
        {
          "output_type": "stream",
          "name": "stdout",
          "text": [
            "1.9897690552894993\n"
          ]
        }
      ]
    },
    {
      "cell_type": "markdown",
      "source": [
        "## Task: output of quadratic-linear layer\n",
        "\n",
        "Write a Python program that computes the output of a quadratic-linear layer. The function should take a vector $ x $ of dimension $ n \\times 1 $ and output a value computed as follows:\n",
        "\n",
        "$$\n",
        "\\text{output} = w_{11} \\cdot x_1^2 + w_{22} \\cdot x_2^2 + \\dots + w_{12} \\cdot x_1 \\cdot x_2 + \\dots + w_{1} \\cdot x_1 + \\dots\n",
        "$$\n",
        "\n",
        "Where $ w $ is the weight tensor.\n",
        "\n",
        "1. Define the weight tensor properly.\n",
        "2. Ensure the dimensions of $ w $ match the required operations.\n",
        "3. The input vector $ x $ should be defined with arbitrary values for testing.\n",
        "\n",
        "---\n",
        "\n",
        "**Instructions**:\n",
        "- First, define a function `quadratic_linear_layer(x)` where $ x $ is an $ n \\times 1 $ numpy array.\n",
        "- Inside the function, define the weight tensor $ w $ such that the quadratic and linear terms can be computed correctly.\n",
        "- Return the computed output.\n",
        "\n"
      ],
      "metadata": {
        "id": "rebU1CH8QRzv"
      }
    },
    {
      "cell_type": "code",
      "source": [
        "import numpy as np\n",
        "# Define the function for the quadratic-linear layer\n",
        "def quadratic_linear_layer(x):\n",
        "    n = x.shape[0]\n",
        "\n",
        "    # Defining the weight tensor for quadratic terms (w for x_i^2)\n",
        "    w = np.array([[10, 21, 13], [14, 25, 16], [27, 8, 19]]) #Example weight tensor consisting of quadratic & interaction terms\n",
        "    quadratic_weights = np.diag(w)\n",
        "\n",
        "    # Defining the weight tensor for interaction terms (w for x_i * x_j)\n",
        "    interaction_weights = w.copy()\n",
        "    np.fill_diagonal(interaction_weights, 0)\n",
        "    #As the quadratic weights are w11, w22..they are diagonals. The rest are the interaction weights w12, w23..where i≠j.\n",
        "    #So we create a copy of the existing example weight tensor and fill the diagonals with 0 to extract the values of the interaction tensors.\n",
        "\n",
        "    # Defining the weight tensor for linear terms (w for x_i)\n",
        "    linear_weights = np.array([12, 10, 25]) #Linear weights for each x_i (x_1, x_2, x_3)\n",
        "\n",
        "    ###\n",
        "    ###Make it generic with quad_weights = np.random.rand(n,n)\n",
        "\n",
        "    # Initialize output\n",
        "    output = 0\n",
        "\n",
        "    # Compute the quadratic terms\n",
        "    quadratic_terms = sum(quadratic_weights[i] * x[i]**2 for i in range(len(x))); #w_i_i *  x_i^2\n",
        "\n",
        "    # Compute and add the interaction terms\n",
        "    interaction_terms = sum(interaction_weights[i, j] * x[i] * x[j] for j in range(len(x)) for i in range(len(x))); #w_i_j * x_i * x_j (i≠j)\n",
        "\n",
        "    # Compute and add the linear terms\n",
        "    linear_terms = np.sum(linear_weights[i] * x[i] for i in range(len(x))); #w_i * x_i\n",
        "\n",
        "    output = quadratic_terms + interaction_terms + linear_terms;\n",
        "\n",
        "    return output\n",
        "\n",
        "# Example usage:\n",
        "x = np.array([1.0, 2.0, 3.0])  # Example input vector\n",
        "result = quadratic_linear_layer(x)\n",
        "print(f\"Output of the quadratic-linear layer: {result}\")\n"
      ],
      "metadata": {
        "colab": {
          "base_uri": "https://localhost:8080/"
        },
        "id": "xH4sLQkGQXW9",
        "outputId": "91598090-2e6b-4944-c0a2-b65085826ef7"
      },
      "execution_count": null,
      "outputs": [
        {
          "output_type": "stream",
          "name": "stdout",
          "text": [
            "Output of the quadratic-linear layer: 722.0\n"
          ]
        }
      ]
    },
    {
      "cell_type": "markdown",
      "source": [
        "## Task: compute gradient of the quadratic-linear layer\n",
        "\n",
        "Recall the quadratic-linear layer with single output.\n",
        "It takes a vector $ x $ of dimension $ n \\times 1 $ and outputs a value computed as follows:\n",
        "\n",
        "$$\n",
        "\\text{output} = w_{11} \\cdot x_1^2 + w_{22} \\cdot x_2^2 + \\dots + w_{12} \\cdot x_1 \\cdot x_2 + \\dots + w_{1} \\cdot x_1 + \\dots\n",
        "$$\n",
        "\n",
        "Where $ \\mathbf{w} $ is the weight tensor.\n",
        "\n",
        "The task is to write a Python program that computes the gradient of the layer with respect to weights.\n",
        "\n",
        "The general formula for the gradient reads:\n",
        "\n",
        "$$\n",
        "\\nabla_{\\omega} h(x) = \\begin{pmatrix}\n",
        "\\frac{\\partial}{\\partial \\omega_1} h(x) \\\\\n",
        "\\frac{\\partial}{\\partial \\omega_2} h(x) \\\\\n",
        "\\vdots\n",
        "\\end{pmatrix}\n",
        "$$\n",
        "\n",
        "where $h$ is the layer function that you computed above, $w$ is the weight tensor and $x$ is the input.\n",
        "\n",
        "You may use high-level functions for this task, say, of `numpy`."
      ],
      "metadata": {
        "id": "VZ8uKx_j1ZA2"
      }
    },
    {
      "cell_type": "code",
      "source": [
        "import numpy as np\n",
        "# Define the function for the gradient of a quadratic-linear layer\n",
        "def grad_quadratic_linear_layer(x):\n",
        "    n = x.shape[0]\n",
        "\n",
        "    grad = []\n",
        "    linear_grad = []\n",
        "\n",
        "    for i in range(n):\n",
        "      for j in range(n):\n",
        "        if (j==i):\n",
        "          grad.append(x[i] ** 2) #As the derivative of x_i^2 will be 2 * x_i (Calculating for the quadratic terms)\n",
        "          #As the derivative of the linear layer would just be the input or x[i], I didn't calculate it\n",
        "        elif (j>i):\n",
        "          grad.append(x[i] * x[j]) #For calculating the derivative of the interaction terms\n",
        "\n",
        "    linear_grad = np.array(x)\n",
        "\n",
        "    grad = np.concatenate((grad, linear_grad))\n",
        "\n",
        "    grad = np.array(grad)\n",
        "\n",
        "    return grad\n",
        "\n",
        "# Example usage:\n",
        "x = np.array([5.0, 4.0, 3.0])  # Example input vector\n",
        "grad = grad_quadratic_linear_layer(x)\n",
        "print(f\"Gradient of the quadratic-linear layer: {grad}\")"
      ],
      "metadata": {
        "colab": {
          "base_uri": "https://localhost:8080/"
        },
        "id": "DMw6w4XN3EBH",
        "outputId": "080cdbce-d260-49a6-b165-0cab10e1b34a"
      },
      "execution_count": null,
      "outputs": [
        {
          "output_type": "stream",
          "name": "stdout",
          "text": [
            "Gradient of the quadratic-linear layer: [25. 20. 15. 16. 12.  9.  5.  4.  3.]\n"
          ]
        }
      ]
    },
    {
      "cell_type": "markdown",
      "source": [
        "## Task: expected value of a discrete random variable\n",
        "\n",
        "Write a Python program that computes the expected value of a scalar random variable that takes discrete values in the range of 0 to 10.\n",
        "The probability mass function (PMF) should be defined as a dictionary, where keys represent the values and values represent the corresponding probabilities.\n",
        "\n",
        "1. Define a dictionary representing the probability mass function (PMF) of the random variable. Ensure that the probabilities sum up to 1.\n",
        "2. Implement a function to compute the expected value based on the PMF.\n",
        "\n",
        "---\n",
        "\n",
        "**Instructions**:\n",
        "\n",
        "- First, define a dictionary called `pmf` where keys are the discrete values (0 to 10) and values are their corresponding probabilities.\n",
        "- Define a function called `expected_value(pmf)` that takes the PMF dictionary as input.\n",
        "- Inside the function, iterate through the PMF and compute the expected value using the formula:\n",
        "$$\n",
        "\\mathbb E[X] = \\sum_{x} x \\cdot \\mathbb P[X=x]\n",
        "$$\n",
        "- Return the computed expected value."
      ],
      "metadata": {
        "id": "E_3iujEOU5Ur"
      }
    },
    {
      "cell_type": "code",
      "source": [
        "# Define the probability mass function (PMF) as a dictionary\n",
        "pmf = {1:0.1, 2:0.1, 3:0.1, 4:0.1, 5:0.1, 6:0.1, 7:0.1, 8:0.1, 9:0.1, 10:0.1}\n",
        "\n",
        "\n",
        "# Define the function to compute the expected value\n",
        "def expected_value(pmf):\n",
        "    expected_val = 0;\n",
        "    for x, probability in pmf.items(): #x is the key & probabilty is the value in the pmf dictionary\n",
        "      expected_val += x * probability\n",
        "\n",
        "    return expected_val\n",
        "\n",
        "# Example usage:\n",
        "# Call the expected_value function with the defined PMF\n",
        "expected_val = expected_value(pmf)\n",
        "print(f\"Expected value of the random variable: {expected_val}\")"
      ],
      "metadata": {
        "id": "ZjxJJHqJVazZ",
        "colab": {
          "base_uri": "https://localhost:8080/"
        },
        "outputId": "ae9bd4e7-1484-472d-bcd9-5b5ceb1ba349"
      },
      "execution_count": null,
      "outputs": [
        {
          "output_type": "stream",
          "name": "stdout",
          "text": [
            "Expected value of the random variable: 5.500000000000001\n"
          ]
        }
      ]
    },
    {
      "cell_type": "markdown",
      "source": [
        "## Task: expected value of a normally distributed random variable\n",
        "\n",
        "Write a Python program that computes the expected value of a normally distributed scalar random variable using numerical integration. The program should:\n",
        "\n",
        "1. Define a function to represent the probability density function (PDF) of the normal distribution.\n",
        "2. Implement a function to perform numerical integration to compute the expected value.\n",
        "3. Write a unit test to compare the result with the expected value calculated using a standard Python function (e.g., `scipy.stats.norm.expect`).\n",
        "\n",
        "---\n",
        "\n",
        "**Instructions**:\n",
        "\n",
        "- Define a function called `normal_pdf(x, mu, sigma)` that takes the value `x`, mean `mu`, and standard deviation `sigma` as input and returns the PDF value at `x`.\n",
        "- Define a function called `expected_value_numerical(mu, sigma, a, b, n)` that takes the mean `mu`, standard deviation `sigma`, integration limits `a` and `b`, and the number of integration steps `n` as input. This function should perform numerical integration using the rectangle rule to compute the expected value. Adjust the integration limits (`a` and `b`) and the number of integration steps `n` as needed for accuracy\n",
        "- Write a unit test function called `test_expected_value()` that compares the result of `expected_value_numerical` with the expected value calculated using `scipy.stats.norm.expect`.\n"
      ],
      "metadata": {
        "id": "N-NNTuNDXn0V"
      }
    },
    {
      "cell_type": "code",
      "source": [
        "from scipy import stats\n",
        "\n",
        "# Define the normal PDF\n",
        "def normal_pdf(x, mu, sigma):\n",
        "\n",
        "    return (1 / (sigma * np.sqrt(2 * np.pi))) * np.exp(-0.5 * ((x - mu) / sigma) ** 2)\n",
        "\n",
        "# Define the numerical integration function\n",
        "def expected_value_numerical(mu, sigma, a, b, n):\n",
        "  # The rectangle rule is basically to divide the area under the curve into a series of rectangles, calculate the area of each rectangle,\n",
        "  #and sum these areas to get an approximation of the total area(integral)\n",
        "    h = (b - a)/n # We start with an interval [a,b] over which we want to integrate the function f(x). This interval is divided into n sub-intervals of\n",
        "    #equal width h.\n",
        "\n",
        "    expected_val = 0\n",
        "\n",
        "    for i in range(n):\n",
        "      x = a + (i + 0.5) * h # Gives the midpoint of the ith rectangle, which is a value between a & b. This is important because the\n",
        "      #rectangle rule uses the height of the function at the midpoint to determine the area of the rectangle.\n",
        "      normal_pdf_val = normal_pdf(x, mu, sigma)\n",
        "      expected_val += normal_pdf_val * x;\n",
        "      # The result from the normal_pdf function represents the height of the rectangle at the midpoint. * h multiplies the height with the width\n",
        "      #to compute the area of the rectangle. Then it adds the area of the current rectangle to the cumulative expected value.\n",
        "    print(expected_val)\n",
        "    return expected_val * h;\n",
        "\n",
        "# Define the unit test function\n",
        "def test_expected_value():\n",
        "    mu = 0.3  # Mean\n",
        "    sigma = 0.1  # Standard deviation\n",
        "    a = mu - 3 * sigma  # Lower integration limit\n",
        "    b = mu + 3 * sigma  # Upper integration limit\n",
        "    n = 1000  # Number of integration steps\n",
        "\n",
        "    # Calculate expected value using numerical integration\n",
        "    expected_val_numerical = expected_value_numerical(mu, sigma, a, b, n)\n",
        "\n",
        "    # Calculate expected value using scipy\n",
        "    expected_val_scipy = stats.norm.expect(lb=a, ub=b, loc=mu, scale=sigma)\n",
        "\n",
        "    # Print values for debugging\n",
        "    print(f\"Numerical expected value: {expected_val_numerical}\")\n",
        "    print(f\"Scipy expected value: {expected_val_scipy}\")\n",
        "\n",
        "    # Compare the two expected values\n",
        "    assert np.isclose(expected_val_numerical, expected_val_scipy, atol=1e-6), \\\n",
        "        f\"Expected value mismatch: {expected_val_numerical} vs {expected_val_scipy}\"\n",
        "\n",
        "    print(\"Test passed: Numerical and scipy expected values match.\")\n",
        "\n",
        "# Example usage:\n",
        "mu = 0.3  # Mean\n",
        "sigma = 0.1  # Standard deviation\n",
        "a = -1  # Lower integration limit\n",
        "b = 1  # Upper integration limit\n",
        "n = 1000  # Number of integration steps\n",
        "\n",
        "expected_val_numerical = expected_value_numerical(mu, sigma, a, b, n)\n",
        "print(f\"Expected value (numerical): {expected_val_numerical}\")\n",
        "\n",
        "# Run the unit test\n",
        "test_expected_value()"
      ],
      "metadata": {
        "colab": {
          "base_uri": "https://localhost:8080/"
        },
        "id": "-1G-tNLtY9sO",
        "outputId": "b4ca6a3c-0f0f-45d1-911f-a02b77c5f8d3"
      },
      "execution_count": null,
      "outputs": [
        {
          "output_type": "stream",
          "name": "stdout",
          "text": [
            "149.99999999935167\n",
            "Expected value (numerical): 0.29999999999870336\n",
            "498.6501219115626\n",
            "Numerical expected value: 0.2991900731469376\n",
            "Scipy expected value: 0.299190061181022\n",
            "Test passed: Numerical and scipy expected values match.\n"
          ]
        }
      ]
    },
    {
      "cell_type": "markdown",
      "source": [
        "## Task*: output of a 3-by-3 convolution layer\n",
        "\n",
        "Write a Python program that computes the output of a 3-by-3 convolution layer.  The function should take an input image (as a 2D numpy array) and a kernel (also a 2D numpy array, of shape 3x3) and outputs the convolved image (as a 2D numpy array). Handle boundaries by padding with zeros, such that the output image is the same shape as the input.\n",
        "\n",
        "1. Define the input image properly.\n",
        "2. Define the kernel (filter) with arbitrary values for testing.\n",
        "3. Ensure that dimensions of input, kernel, and output are correct.\n",
        "\n",
        "\n",
        "---\n",
        "**Instructions**:\n",
        "\n",
        "- First, define a function called `conv3x3(image, kernel)` where `image` is a 2D numpy array representing the input image, and `kernel` is a 3x3 numpy array representing the kernel.\n",
        "- Inside the function, define the output array for the convolved image. Make it the same shape as the input image.\n",
        "- Iterate over the rows and columns of the image.\n",
        "- At each point, pad with zeros as needed, perform the convolution operation and store the result in the output array."
      ],
      "metadata": {
        "id": "5A8i1qHXTJ0e"
      }
    },
    {
      "cell_type": "code",
      "source": [
        "# Define the function for the 3x3 convolution layer\n",
        "def conv3x3(image, kernel):\n",
        "    # Get the dimensions of the input image\n",
        "    ###\n",
        "    # WRITE CODE HERE\n",
        "\n",
        "    ###\n",
        "\n",
        "    # Create an output image of the same size, filled with zeros\n",
        "    ###\n",
        "    # WRITE CODE HERE\n",
        "\n",
        "    ###\n",
        "\n",
        "    # Iterate through the image, leaving a 1-pixel border\n",
        "    ###\n",
        "    # WRITE CODE HERE\n",
        "\n",
        "    ###\n",
        "\n",
        "        # Perform the convolution operation at this pixel\n",
        "        ###\n",
        "        # WRITE CODE HERE\n",
        "\n",
        "        ###\n",
        "\n",
        "    return output_image\n",
        "\n",
        "# Example usage:\n",
        "# Define an input image (5x5 for simplicity)\n",
        "###\n",
        "# WRITE CODE HERE\n",
        "\n",
        "###\n",
        "\n",
        "# Define a 3x3 kernel\n",
        "###\n",
        "# WRITE CODE HERE\n",
        "\n",
        "###\n",
        "\n",
        "# Call the convolution function\n",
        "output_image = conv3x3(image, kernel)\n",
        "print(f\"Output of the convolution layer:\\n{output_image}\")"
      ],
      "metadata": {
        "id": "1QU_pUUWTWFM"
      },
      "execution_count": null,
      "outputs": []
    }
  ]
}